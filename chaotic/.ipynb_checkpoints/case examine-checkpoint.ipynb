{
 "cells": [
  {
   "cell_type": "code",
   "execution_count": 1,
   "metadata": {
    "collapsed": true
   },
   "outputs": [],
   "source": [
    "from decimal import *"
   ]
  },
  {
   "cell_type": "code",
   "execution_count": 33,
   "metadata": {},
   "outputs": [],
   "source": [
    "getcontext().prec=100"
   ]
  },
  {
   "cell_type": "code",
   "execution_count": 34,
   "metadata": {
    "collapsed": true
   },
   "outputs": [],
   "source": [
    "x0 = Decimal(0.6)\n",
    "r = Decimal(0.8727015701570156603)\n",
    "def L_map(x):\n",
    "    return 4 * r * x * (1 - x)\n",
    "\n",
    "def x_gen(x0, steps):\n",
    "    x = x0\n",
    "    for i in range(steps):\n",
    "        yield x\n",
    "        x = L_map(x)"
   ]
  },
  {
   "cell_type": "code",
   "execution_count": 35,
   "metadata": {
    "scrolled": false
   },
   "outputs": [
    {
     "data": {
      "text/plain": [
       "Decimal('-0.4416328504816090059459613792926644847764277731040382163602536363197167554322116353999616500584947594')"
      ]
     },
     "execution_count": 35,
     "metadata": {},
     "output_type": "execute_result"
    }
   ],
   "source": [
    "xs = list(x_gen(x0, 200))\n",
    "ys = list(x_gen(x0+Decimal(1.e-10), 200))\n",
    "diffs = [abs(y-x) for x, y in zip(ys, xs)]\n",
    "sum((y/x).ln() for x,y in zip(diffs[:-1],diffs[1:])) / 200"
   ]
  },
  {
   "cell_type": "code",
   "execution_count": null,
   "metadata": {
    "collapsed": true
   },
   "outputs": [],
   "source": []
  }
 ],
 "metadata": {
  "kernelspec": {
   "display_name": "Python 3",
   "language": "python",
   "name": "python3"
  },
  "language_info": {
   "codemirror_mode": {
    "name": "ipython",
    "version": 3
   },
   "file_extension": ".py",
   "mimetype": "text/x-python",
   "name": "python",
   "nbconvert_exporter": "python",
   "pygments_lexer": "ipython3",
   "version": "3.6.0"
  }
 },
 "nbformat": 4,
 "nbformat_minor": 2
}
