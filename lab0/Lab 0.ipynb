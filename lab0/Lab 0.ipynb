{
 "cells": [
  {
   "cell_type": "markdown",
   "metadata": {},
   "source": [
    "### Flow Chart for MD\n",
    "- Initialize Particles\n",
    "- Compute Potential/ Force\n",
    "- Update particle states\n",
    "- Run for enough steps?\n",
    "- Collect statistics"
   ]
  },
  {
   "cell_type": "markdown",
   "metadata": {},
   "source": [
    "XYZ file writer\n",
    "\n",
    "example\n",
    "\n",
    "12\n",
    "benzene example\n",
    "  C        0.00000        1.40272        0.00000\n",
    "  H        0.00000        2.49029        0.00000\n",
    "  C       -1.21479        0.70136        0.00000\n",
    "  H       -2.15666        1.24515        0.00000\n",
    "  C       -1.21479       -0.70136        0.00000\n",
    "  H       -2.15666       -1.24515        0.00000\n",
    "  C        0.00000       -1.40272        0.00000\n",
    "  H        0.00000       -2.49029        0.00000\n",
    "  C        1.21479       -0.70136        0.00000\n",
    "  H        2.15666       -1.24515        0.00000\n",
    "  C        1.21479        0.70136        0.00000\n",
    "  H        2.15666        1.24515        0.00000\n"
   ]
  },
  {
   "cell_type": "code",
   "execution_count": 40,
   "metadata": {},
   "outputs": [],
   "source": [
    "import numpy as np\n",
    "\n",
    "def write_head(fname, N, head):\n",
    "    with open(fname, 'w') as f:\n",
    "        f.write('{}\\n'.format(N))\n",
    "        f.write(head+'\\n')\n",
    "\n",
    "def create_atoms(names, N, scale):\n",
    "    atom_coords = []\n",
    "    for i in range(N):\n",
    "        atom_name = [np.random.choice(names)]\n",
    "        coords = [str(i) for i in scale * np.random.random(3)]\n",
    "        atom = atom_name + coords\n",
    "        atom_coords.append(atom)\n",
    "    return atom_coords\n",
    "\n",
    "def write_atoms(fname, atom_coords):\n",
    "    with open(fname, 'a') as f:\n",
    "        for atom in atom_coords:\n",
    "            line = ' '.join(atom)\n",
    "            f.write('{}\\n'.format(line))"
   ]
  },
  {
   "cell_type": "code",
   "execution_count": 48,
   "metadata": {},
   "outputs": [],
   "source": [
    "def write_frames(frame):\n",
    "    fname = 'lab0_frame{}.xyz'.format(frame)\n",
    "    names = ['C','H','N']\n",
    "    N = 8\n",
    "    scale = 2\n",
    "    write_head(fname, N, 'lab0_2 example frame {}'.format(frame))\n",
    "    atom_coords = create_atoms(names, N, scale)\n",
    "    write_atoms(fname, atom_coords)\n",
    "    \n",
    "for i in range(3):\n",
    "    write_frames(i)"
   ]
  },
  {
   "cell_type": "code",
   "execution_count": null,
   "metadata": {
    "collapsed": true
   },
   "outputs": [],
   "source": [
    "with open(fname, 'r') as f:\n",
    "    content = f.readlines()\n",
    "\n",
    "print(content)"
   ]
  }
 ],
 "metadata": {
  "kernelspec": {
   "display_name": "Python 3",
   "language": "python",
   "name": "python3"
  },
  "language_info": {
   "codemirror_mode": {
    "name": "ipython",
    "version": 3
   },
   "file_extension": ".py",
   "mimetype": "text/x-python",
   "name": "python",
   "nbconvert_exporter": "python",
   "pygments_lexer": "ipython3",
   "version": "3.6.0"
  }
 },
 "nbformat": 4,
 "nbformat_minor": 2
}
