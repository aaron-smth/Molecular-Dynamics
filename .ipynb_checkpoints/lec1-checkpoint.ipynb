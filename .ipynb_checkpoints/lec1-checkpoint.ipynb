{
 "cells": [
  {
   "cell_type": "markdown",
   "metadata": {},
   "source": [
    "A teacher and n students (each with 10$)\n",
    "\n",
    "coin flip (50%)   1 $ each\n",
    "\n",
    "no debt allowed\n",
    "\n",
    "N coin flips"
   ]
  },
  {
   "cell_type": "code",
   "execution_count": 29,
   "metadata": {
    "collapsed": true
   },
   "outputs": [],
   "source": [
    "import numpy as np\n",
    "import matplotlib.pylab as plt"
   ]
  },
  {
   "cell_type": "code",
   "execution_count": 31,
   "metadata": {},
   "outputs": [],
   "source": [
    "class State:\n",
    "    \n",
    "    def __init__(self,size):\n",
    "        self.size = size\n",
    "        self.teacher = 10.\n",
    "        self.students = np.ones(size) * 10\n",
    "        self.bet = 1.\n",
    "        self.p = 0.5\n",
    "        \n",
    "        self.sIndex = 0\n",
    "        self.nExchanges = 0\n",
    "        \n",
    "    def flip(self):\n",
    "        p=self.p\n",
    "        teacher_wins = np.random.choice([1,-1],p=[p,1-p])\n",
    "        \n",
    "        self.teacher += self.bet * teacher_wins\n",
    "        self.students[self.sIndex] -= self.bet * teacher_wins\n",
    "        \n",
    "        self.nExchanges += 1\n",
    "        self.sIndex += 1\n",
    "        self.sIndex = np.mod(self.sIndex, self.size)\n",
    "        \n",
    "    def check_balance(self):\n",
    "        for person in np.append(self.students, self.teacher):\n",
    "            if person < 0:\n",
    "                return False\n",
    "        return True\n",
    "    \n",
    "    def plot(self):\n",
    "        fig, ax = plt.subplots(figsize=(10,6))\n",
    "        ax.hist(self.students)\n",
    "        plt.show()\n",
    "        \n",
    "    def result_presentation(self):\n",
    "        if self.teacher > 0:\n",
    "            print('teacher wins!')\n",
    "        else:\n",
    "            print('student wins!')\n",
    "        print('totally {} games'.format(self.nExchanges))\n",
    "        print('teacher:{}'.format(self.teacher))\n",
    "        print('students:{}'.format(self.students))\n",
    "        \n",
    "        self.plot()\n",
    "    \n",
    "    def proceed(self):\n",
    "        while self.check_balance():\n",
    "            self.flip()\n",
    "        self.result_presentation()"
   ]
  },
  {
   "cell_type": "code",
   "execution_count": 56,
   "metadata": {
    "scrolled": false
   },
   "outputs": [
    {
     "name": "stdout",
     "output_type": "stream",
     "text": [
      "student wins!\n",
      "totally 159 games\n",
      "teacher:-1.0\n",
      "students:[  6.  12.  12.  14.  12.   6.   6.  10.  10.  10.  14.  14.  10.   8.  12.\n",
      "  10.   8.  10.  14.  12.   8.  10.   8.  12.  10.  10.   8.   6.   6.  10.\n",
      "  12.  14.  10.  10.  12.  14.  10.  10.  10.  11.]\n"
     ]
    },
    {
     "data": {
      "image/png": "[encoded data removed]",
      "text/plain": [
       "<matplotlib.figure.Figure at 0x11b4b56a0>"
      ]
     },
     "metadata": {},
     "output_type": "display_data"
    }
   ],
   "source": [
    "X = State(40)\n",
    "X.proceed()"
   ]
  },
  {
   "cell_type": "code",
   "execution_count": null,
   "metadata": {
    "collapsed": true
   },
   "outputs": [],
   "source": []
  }
 ],
 "metadata": {
  "kernelspec": {
   "display_name": "Python 3",
   "language": "python",
   "name": "python3"
  },
  "language_info": {
   "codemirror_mode": {
    "name": "ipython",
    "version": 3
   },
   "file_extension": ".py",
   "mimetype": "text/x-python",
   "name": "python",
   "nbconvert_exporter": "python",
   "pygments_lexer": "ipython3",
   "version": "3.6.0"
  }
 },
 "nbformat": 4,
 "nbformat_minor": 2
}
