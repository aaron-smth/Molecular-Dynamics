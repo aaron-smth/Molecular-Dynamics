{
 "cells": [
  {
   "cell_type": "markdown",
   "metadata": {},
   "source": [
    "### Free expansion simulation"
   ]
  },
  {
   "cell_type": "code",
   "execution_count": 97,
   "metadata": {
    "collapsed": true
   },
   "outputs": [],
   "source": [
    "import numpy as np\n",
    "import matplotlib.pyplot as plt"
   ]
  },
  {
   "cell_type": "code",
   "execution_count": 163,
   "metadata": {},
   "outputs": [],
   "source": [
    "def initialize(N):\n",
    "    state = np.zeros(N,dtype=bool)\n",
    "    return state\n",
    "def step(state):\n",
    "    N = len(state)\n",
    "    index = np.random.randint(N)\n",
    "    state[index] = ~ state[index]\n",
    "    return state\n",
    "def draw(state):\n",
    "    N = len(state)\n",
    "    right = sum(state)\n",
    "    left = N - right\n",
    "    \n",
    "    left_xs = 0.5*np.random.random(left)\n",
    "    left_ys = np.random.random(left)\n",
    "    \n",
    "    right_xs = 0.5*(1+np.random.random(right))\n",
    "    right_ys = np.random.random(right)    \n",
    "    \n",
    "    fig, ax = plt.subplots(figsize=(10,5))\n",
    "    ax.plot(left_xs,left_ys,'bo',color='blue')\n",
    "    ax.plot(right_xs,right_ys,'bo',color='red')\n",
    "    ax.set_xlim([0,1])\n",
    "    ax.set_ylim([0,1])\n",
    "    plt.show(fig)\n",
    "\n",
    "def doStep(state):\n",
    "    new_state = step(state)\n",
    "    print(sum(new_state)/len(new_state))\n",
    "    draw(new_state)"
   ]
  },
  {
   "cell_type": "code",
   "execution_count": 164,
   "metadata": {
    "scrolled": false
   },
   "outputs": [],
   "source": [
    "def FreeExpansionApp(N, steps):\n",
    "    state = initialize(N)\n",
    "    for i in range(steps):\n",
    "        doStep(state)"
   ]
  },
  {
   "cell_type": "code",
   "execution_count": 166,
   "metadata": {
    "scrolled": false
   },
   "outputs": [],
   "source": [
    "# FreeExpansionApp(20,20)"
   ]
  },
  {
   "cell_type": "markdown",
   "metadata": {},
   "source": [
    "### 1D Random walk"
   ]
  },
  {
   "cell_type": "code",
   "execution_count": null,
   "metadata": {
    "collapsed": true
   },
   "outputs": [],
   "source": []
  },
  {
   "cell_type": "markdown",
   "metadata": {},
   "source": [
    "### Hashing function and Hashtable"
   ]
  },
  {
   "cell_type": "code",
   "execution_count": null,
   "metadata": {
    "collapsed": true
   },
   "outputs": [],
   "source": []
  }
 ],
 "metadata": {
  "kernelspec": {
   "display_name": "Python 3",
   "language": "python",
   "name": "python3"
  },
  "language_info": {
   "codemirror_mode": {
    "name": "ipython",
    "version": 3
   },
   "file_extension": ".py",
   "mimetype": "text/x-python",
   "name": "python",
   "nbconvert_exporter": "python",
   "pygments_lexer": "ipython3",
   "version": "3.6.0"
  }
 },
 "nbformat": 4,
 "nbformat_minor": 2
}
